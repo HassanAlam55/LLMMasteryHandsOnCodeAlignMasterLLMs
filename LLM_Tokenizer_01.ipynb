{
 "cells": [
  {
   "cell_type": "markdown",
   "metadata": {},
   "source": [
    "# Train a Tokenizer"
   ]
  },
  {
   "cell_type": "code",
   "execution_count": 4,
   "metadata": {},
   "outputs": [],
   "source": [
    "import sentencepiece as spm\n",
    "import os\n",
    "\n",
    "vocab_size = 4046\n",
    "\n",
    "spm.SentencePieceTrainer.Train(\n",
    "    input = 'wiki.txt',\n",
    "    model_prefix = 'test_wiki_tokenizer',\n",
    "    model_type = 'bpe',\n",
    "    vocab_size = vocab_size,\n",
    "    self_test_sample_size = 0,\n",
    "    input_format='text',\n",
    "    character_coverage = 0.995,\n",
    "    num_threads = os.cpu_count(),\n",
    "    split_digits = True,\n",
    "    allow_whitespace_only_pieces = True,\n",
    "    byte_fallback = True,\n",
    "    unk_surface = r' \\342\\201\\207 ',\n",
    "    normalization_rule_name = 'identity'\n",
    ")\n",
    "\n",
    "print ('tokenizer training completed')"
   ]
  }
 ],
 "metadata": {
  "kernelspec": {
   "display_name": "Py311UdemyLMMastery1",
   "language": "python",
   "name": "python3"
  },
  "language_info": {
   "codemirror_mode": {
    "name": "ipython",
    "version": 3
   },
   "file_extension": ".py",
   "mimetype": "text/x-python",
   "name": "python",
   "nbconvert_exporter": "python",
   "pygments_lexer": "ipython3",
   "version": "3.11.9"
  }
 },
 "nbformat": 4,
 "nbformat_minor": 2
}
