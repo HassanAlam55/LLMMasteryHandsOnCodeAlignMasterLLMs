{
 "cells": [
  {
   "cell_type": "code",
   "execution_count": 11,
   "metadata": {},
   "outputs": [],
   "source": [
    "import ipdb\n",
    "import tqdm\n",
    "import sentencepiece\n",
    "import wandb\n",
    "import pdb\n",
    "\n"
   ]
  },
  {
   "cell_type": "code",
   "execution_count": 9,
   "metadata": {},
   "outputs": [
    {
     "name": "stderr",
     "output_type": "stream",
     "text": [
      "ERROR: Could not find a version that satisfies the requirement pdb (from versions: none)\n",
      "ERROR: No matching distribution found for pdb\n"
     ]
    }
   ],
   "source": [
    "!pip install -q pdb"
   ]
  },
  {
   "cell_type": "code",
   "execution_count": null,
   "metadata": {},
   "outputs": [],
   "source": [
    "def calculate (v1, v2):\n",
    "    # ipdb.set_trace()\n",
    "    pdb.set_trace()\n",
    "    calc1 = v1 *55\n",
    "    calc2 = calc1 * v2\n",
    "    return calc2\n",
    "\n",
    "print (calculate (2, 3))"
   ]
  }
 ],
 "metadata": {
  "kernelspec": {
   "display_name": "UdemyLLMMasteryHandsonCode-1",
   "language": "python",
   "name": "python3"
  },
  "language_info": {
   "codemirror_mode": {
    "name": "ipython",
    "version": 3
   },
   "file_extension": ".py",
   "mimetype": "text/x-python",
   "name": "python",
   "nbconvert_exporter": "python",
   "pygments_lexer": "ipython3",
   "version": "3.13.2"
  }
 },
 "nbformat": 4,
 "nbformat_minor": 2
}
